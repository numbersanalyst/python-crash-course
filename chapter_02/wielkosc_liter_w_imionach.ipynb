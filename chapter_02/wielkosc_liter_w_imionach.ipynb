{
 "cells": [
  {
   "cell_type": "code",
   "execution_count": 8,
   "metadata": {},
   "outputs": [
    {
     "name": "stdout",
     "output_type": "stream",
     "text": [
      "Hello, Michał! Do you want to learn python?\n"
     ]
    }
   ],
   "source": [
    "#2.3\n",
    "name = 'Michał'\n",
    "message = f'Hello, {name}! Do you want to learn python?'\n",
    "print(message)"
   ]
  },
  {
   "cell_type": "code",
   "execution_count": 9,
   "metadata": {},
   "outputs": [
    {
     "name": "stdout",
     "output_type": "stream",
     "text": [
      "michał\n",
      "MICHAŁ\n",
      "Michał\n"
     ]
    }
   ],
   "source": [
    "#2.4\n",
    "print(name.lower())\n",
    "print(name.upper())\n",
    "print(name.title())"
   ]
  },
  {
   "cell_type": "code",
   "execution_count": 10,
   "metadata": {},
   "outputs": [
    {
     "name": "stdout",
     "output_type": "stream",
     "text": [
      "Albert Einstein once said: \"Genius is 1% talent and 99% percent hard work.\"\n"
     ]
    }
   ],
   "source": [
    "#2.5, 2.6\n",
    "author = 'Albert Einstein'\n",
    "quote = 'Genius is 1% talent and 99% percent hard work.'\n",
    "result = f'{author} once said: \"{quote}\"'\n",
    "print(result)"
   ]
  },
  {
   "cell_type": "code",
   "execution_count": 15,
   "metadata": {},
   "outputs": [
    {
     "name": "stdout",
     "output_type": "stream",
     "text": [
      " Albert Einstein          \n",
      "Albert Einstein          \n",
      " Albert Einstein\n",
      "Albert Einstein\n"
     ]
    }
   ],
   "source": [
    "# 2.7\n",
    "famous_person = ' Albert Einstein          '\n",
    "print(famous_person)\n",
    "\n",
    "print(famous_person.lstrip())\n",
    "print(famous_person.rstrip())\n",
    "print(famous_person.strip())"
   ]
  }
 ],
 "metadata": {
  "kernelspec": {
   "display_name": "Python 3",
   "language": "python",
   "name": "python3"
  },
  "language_info": {
   "codemirror_mode": {
    "name": "ipython",
    "version": 3
   },
   "file_extension": ".py",
   "mimetype": "text/x-python",
   "name": "python",
   "nbconvert_exporter": "python",
   "pygments_lexer": "ipython3",
   "version": "3.11.3"
  },
  "orig_nbformat": 4
 },
 "nbformat": 4,
 "nbformat_minor": 2
}
